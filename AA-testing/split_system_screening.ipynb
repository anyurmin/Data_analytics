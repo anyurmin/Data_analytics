{
 "cells": [
  {
   "cell_type": "code",
   "execution_count": 1,
   "id": "5c458a03",
   "metadata": {},
   "outputs": [],
   "source": [
    "import numpy as np\n",
    "import pandas as pd\n",
    "import scipy.stats as sp\n",
    "import matplotlib.pyplot as plt\n",
    "\n",
    "from tqdm.auto import tqdm"
   ]
  },
  {
   "cell_type": "code",
   "execution_count": 2,
   "id": "418d8d79",
   "metadata": {},
   "outputs": [],
   "source": [
    "df = pd.read_csv('https://stepik.org/media/attachments/lesson/396012/hw_aa.csv', sep = ';', index_col = 0)"
   ]
  },
  {
   "cell_type": "code",
   "execution_count": 3,
   "id": "4887d3eb",
   "metadata": {},
   "outputs": [
    {
     "data": {
      "text/html": [
       "<div>\n",
       "<style scoped>\n",
       "    .dataframe tbody tr th:only-of-type {\n",
       "        vertical-align: middle;\n",
       "    }\n",
       "\n",
       "    .dataframe tbody tr th {\n",
       "        vertical-align: top;\n",
       "    }\n",
       "\n",
       "    .dataframe thead th {\n",
       "        text-align: right;\n",
       "    }\n",
       "</style>\n",
       "<table border=\"1\" class=\"dataframe\">\n",
       "  <thead>\n",
       "    <tr style=\"text-align: right;\">\n",
       "      <th></th>\n",
       "      <th>uid</th>\n",
       "      <th>experimentVariant</th>\n",
       "      <th>version</th>\n",
       "      <th>purchase</th>\n",
       "    </tr>\n",
       "  </thead>\n",
       "  <tbody>\n",
       "    <tr>\n",
       "      <th>1</th>\n",
       "      <td>c4ca4238a0b923820dcc509a6f75849b</td>\n",
       "      <td>1</td>\n",
       "      <td>v2.8.0</td>\n",
       "      <td>0</td>\n",
       "    </tr>\n",
       "    <tr>\n",
       "      <th>2</th>\n",
       "      <td>c81e728d9d4c2f636f067f89cc14862c</td>\n",
       "      <td>0</td>\n",
       "      <td>v2.9.0</td>\n",
       "      <td>0</td>\n",
       "    </tr>\n",
       "    <tr>\n",
       "      <th>3</th>\n",
       "      <td>eccbc87e4b5ce2fe28308fd9f2a7baf3</td>\n",
       "      <td>1</td>\n",
       "      <td>v2.9.0</td>\n",
       "      <td>0</td>\n",
       "    </tr>\n",
       "  </tbody>\n",
       "</table>\n",
       "</div>"
      ],
      "text/plain": [
       "                                uid  experimentVariant version  purchase\n",
       "1  c4ca4238a0b923820dcc509a6f75849b                  1  v2.8.0         0\n",
       "2  c81e728d9d4c2f636f067f89cc14862c                  0  v2.9.0         0\n",
       "3  eccbc87e4b5ce2fe28308fd9f2a7baf3                  1  v2.9.0         0"
      ]
     },
     "execution_count": 3,
     "metadata": {},
     "output_type": "execute_result"
    }
   ],
   "source": [
    "df.head(3)"
   ]
  },
  {
   "cell_type": "code",
   "execution_count": 4,
   "id": "49761e1e",
   "metadata": {},
   "outputs": [
    {
     "data": {
      "text/plain": [
       "0"
      ]
     },
     "execution_count": 4,
     "metadata": {},
     "output_type": "execute_result"
    }
   ],
   "source": [
    "# проверим uid на наличие дубликатов\n",
    "df.duplicated().sum()"
   ]
  },
  {
   "cell_type": "code",
   "execution_count": 5,
   "id": "dce01c2d",
   "metadata": {},
   "outputs": [
    {
     "name": "stdout",
     "output_type": "stream",
     "text": [
      "<class 'pandas.core.frame.DataFrame'>\n",
      "Int64Index: 127018 entries, 1 to 127018\n",
      "Data columns (total 4 columns):\n",
      " #   Column             Non-Null Count   Dtype \n",
      "---  ------             --------------   ----- \n",
      " 0   uid                127018 non-null  object\n",
      " 1   experimentVariant  127018 non-null  int64 \n",
      " 2   version            127018 non-null  object\n",
      " 3   purchase           127018 non-null  int64 \n",
      "dtypes: int64(2), object(2)\n",
      "memory usage: 4.8+ MB\n"
     ]
    }
   ],
   "source": [
    "df.info()"
   ]
  },
  {
   "cell_type": "markdown",
   "id": "79f76331",
   "metadata": {},
   "source": [
    "#### A/A - test"
   ]
  },
  {
   "cell_type": "code",
   "execution_count": 6,
   "id": "3bb50a9e",
   "metadata": {},
   "outputs": [
    {
     "data": {
      "application/vnd.jupyter.widget-view+json": {
       "model_id": "c7699ceab1fa4f5db7cd2deba7c4e135",
       "version_major": 2,
       "version_minor": 0
      },
      "text/plain": [
       "  0%|          | 0/1000 [00:00<?, ?it/s]"
      ]
     },
     "metadata": {},
     "output_type": "display_data"
    },
    {
     "data": {
      "image/png": "[encoded data removed]",
      "text/plain": [
       "<Figure size 432x288 with 1 Axes>"
      ]
     },
     "metadata": {
      "needs_background": "light"
     },
     "output_type": "display_data"
    },
    {
     "name": "stdout",
     "output_type": "stream",
     "text": [
      "FPR is: 0.926\n"
     ]
    }
   ],
   "source": [
    "simulations = 1000\n",
    "n_s = 1000\n",
    "res = []\n",
    "\n",
    "# запуск симуляций A/A теста\n",
    "for i in tqdm(range(simulations)):\n",
    "    s1 = df.query('experimentVariant == 0')['purchase'].sample(n_s, replace = False).values # выборки без повторений\n",
    "    s2 = df.query('experimentVariant == 1')['purchase'].sample(n_s, replace = False).values # выборки без повторений\n",
    "    res.append(sp.ttest_ind(s1, s2, equal_var = False)[1]) # сохраняем pvalue\n",
    "\n",
    "# визуализация\n",
    "plt.hist(res, bins = 50)\n",
    "plt.style.use('ggplot')\n",
    "plt.xlabel('p-values')\n",
    "plt.ylabel('frequency')\n",
    "plt.title(\"Histogram of t-test A/A simulations \")\n",
    "plt.show()\n",
    "\n",
    "# проверяем, что количество ложноположительных случаев не превышает альфа\n",
    "fpr = sum(np.array(res) < 0.05) / simulations\n",
    "print('FPR is:', fpr)"
   ]
  },
  {
   "cell_type": "markdown",
   "id": "20428ebf",
   "metadata": {},
   "source": [
    "Очевидно, система сплитования работает некорректно. Попробуем разобраться почему. "
   ]
  },
  {
   "cell_type": "code",
   "execution_count": 10,
   "id": "7287c627",
   "metadata": {},
   "outputs": [
    {
     "name": "stdout",
     "output_type": "stream",
     "text": [
      "Purchases distribution:\n"
     ]
    },
    {
     "data": {
      "text/html": [
       "<div>\n",
       "<style scoped>\n",
       "    .dataframe tbody tr th:only-of-type {\n",
       "        vertical-align: middle;\n",
       "    }\n",
       "\n",
       "    .dataframe tbody tr th {\n",
       "        vertical-align: top;\n",
       "    }\n",
       "\n",
       "    .dataframe thead th {\n",
       "        text-align: right;\n",
       "    }\n",
       "</style>\n",
       "<table border=\"1\" class=\"dataframe\">\n",
       "  <thead>\n",
       "    <tr style=\"text-align: right;\">\n",
       "      <th></th>\n",
       "      <th>experimentVariant = 0</th>\n",
       "      <th>experimentVariant = 1</th>\n",
       "    </tr>\n",
       "  </thead>\n",
       "  <tbody>\n",
       "    <tr>\n",
       "      <th>0</th>\n",
       "      <td>61591</td>\n",
       "      <td>60513</td>\n",
       "    </tr>\n",
       "    <tr>\n",
       "      <th>1</th>\n",
       "      <td>1511</td>\n",
       "      <td>3403</td>\n",
       "    </tr>\n",
       "  </tbody>\n",
       "</table>\n",
       "</div>"
      ],
      "text/plain": [
       "   experimentVariant = 0  experimentVariant = 1\n",
       "0                  61591                  60513\n",
       "1                   1511                   3403"
      ]
     },
     "execution_count": 10,
     "metadata": {},
     "output_type": "execute_result"
    }
   ],
   "source": [
    "# проверим распределение значений purchase по группам\n",
    "print('Purchases distribution:')\n",
    "pd.concat([df.query('experimentVariant == 0').purchase.value_counts().rename('experimentVariant = 0'), \\\n",
    "           df.query('experimentVariant == 1').purchase.value_counts().rename('experimentVariant = 1')], axis = 1)"
   ]
  },
  {
   "cell_type": "code",
   "execution_count": 11,
   "id": "42fc2ae3",
   "metadata": {},
   "outputs": [
    {
     "name": "stdout",
     "output_type": "stream",
     "text": [
      "purchases.version destribution:\n"
     ]
    },
    {
     "data": {
      "text/html": [
       "<div>\n",
       "<style scoped>\n",
       "    .dataframe tbody tr th:only-of-type {\n",
       "        vertical-align: middle;\n",
       "    }\n",
       "\n",
       "    .dataframe tbody tr th {\n",
       "        vertical-align: top;\n",
       "    }\n",
       "\n",
       "    .dataframe thead th {\n",
       "        text-align: right;\n",
       "    }\n",
       "</style>\n",
       "<table border=\"1\" class=\"dataframe\">\n",
       "  <thead>\n",
       "    <tr style=\"text-align: right;\">\n",
       "      <th></th>\n",
       "      <th>experimentVariant = 0</th>\n",
       "      <th>experimentVariant = 1</th>\n",
       "    </tr>\n",
       "  </thead>\n",
       "  <tbody>\n",
       "    <tr>\n",
       "      <th>v2.8.0</th>\n",
       "      <td>41283</td>\n",
       "      <td>41552</td>\n",
       "    </tr>\n",
       "    <tr>\n",
       "      <th>v2.9.0</th>\n",
       "      <td>11921</td>\n",
       "      <td>12033</td>\n",
       "    </tr>\n",
       "    <tr>\n",
       "      <th>v3.8.0.0</th>\n",
       "      <td>5694</td>\n",
       "      <td>6110</td>\n",
       "    </tr>\n",
       "    <tr>\n",
       "      <th>v3.7.4.0</th>\n",
       "      <td>4204</td>\n",
       "      <td>4221</td>\n",
       "    </tr>\n",
       "  </tbody>\n",
       "</table>\n",
       "</div>"
      ],
      "text/plain": [
       "          experimentVariant = 0  experimentVariant = 1\n",
       "v2.8.0                    41283                  41552\n",
       "v2.9.0                    11921                  12033\n",
       "v3.8.0.0                   5694                   6110\n",
       "v3.7.4.0                   4204                   4221"
      ]
     },
     "execution_count": 11,
     "metadata": {},
     "output_type": "execute_result"
    }
   ],
   "source": [
    "# проверим распределение пользователей разных версий по группам\n",
    "print('purchases.version destribution:')\n",
    "pd.concat([df.query('experimentVariant == 0').version.value_counts().rename('experimentVariant = 0'), \\\n",
    "           df.query('experimentVariant == 1').version.value_counts().rename('experimentVariant = 1')], axis=1)"
   ]
  },
  {
   "cell_type": "code",
   "execution_count": 12,
   "id": "863a8f7c",
   "metadata": {},
   "outputs": [
    {
     "data": {
      "text/html": [
       "<div>\n",
       "<style scoped>\n",
       "    .dataframe tbody tr th:only-of-type {\n",
       "        vertical-align: middle;\n",
       "    }\n",
       "\n",
       "    .dataframe tbody tr th {\n",
       "        vertical-align: top;\n",
       "    }\n",
       "\n",
       "    .dataframe thead tr th {\n",
       "        text-align: left;\n",
       "    }\n",
       "</style>\n",
       "<table border=\"1\" class=\"dataframe\">\n",
       "  <thead>\n",
       "    <tr>\n",
       "      <th></th>\n",
       "      <th>version</th>\n",
       "      <th>experimentVariant</th>\n",
       "      <th colspan=\"2\" halign=\"left\">purchase</th>\n",
       "    </tr>\n",
       "    <tr>\n",
       "      <th></th>\n",
       "      <th></th>\n",
       "      <th></th>\n",
       "      <th>mean</th>\n",
       "      <th>count</th>\n",
       "    </tr>\n",
       "  </thead>\n",
       "  <tbody>\n",
       "    <tr>\n",
       "      <th>0</th>\n",
       "      <td>v2.8.0</td>\n",
       "      <td>0</td>\n",
       "      <td>0.000993</td>\n",
       "      <td>41283</td>\n",
       "    </tr>\n",
       "    <tr>\n",
       "      <th>1</th>\n",
       "      <td>v2.8.0</td>\n",
       "      <td>1</td>\n",
       "      <td>0.045606</td>\n",
       "      <td>41552</td>\n",
       "    </tr>\n",
       "    <tr>\n",
       "      <th>2</th>\n",
       "      <td>v2.9.0</td>\n",
       "      <td>0</td>\n",
       "      <td>0.074658</td>\n",
       "      <td>11921</td>\n",
       "    </tr>\n",
       "    <tr>\n",
       "      <th>3</th>\n",
       "      <td>v2.9.0</td>\n",
       "      <td>1</td>\n",
       "      <td>0.071304</td>\n",
       "      <td>12033</td>\n",
       "    </tr>\n",
       "    <tr>\n",
       "      <th>4</th>\n",
       "      <td>v3.7.4.0</td>\n",
       "      <td>0</td>\n",
       "      <td>0.059943</td>\n",
       "      <td>4204</td>\n",
       "    </tr>\n",
       "    <tr>\n",
       "      <th>5</th>\n",
       "      <td>v3.7.4.0</td>\n",
       "      <td>1</td>\n",
       "      <td>0.063018</td>\n",
       "      <td>4221</td>\n",
       "    </tr>\n",
       "    <tr>\n",
       "      <th>6</th>\n",
       "      <td>v3.8.0.0</td>\n",
       "      <td>0</td>\n",
       "      <td>0.057604</td>\n",
       "      <td>5694</td>\n",
       "    </tr>\n",
       "    <tr>\n",
       "      <th>7</th>\n",
       "      <td>v3.8.0.0</td>\n",
       "      <td>1</td>\n",
       "      <td>0.062848</td>\n",
       "      <td>6110</td>\n",
       "    </tr>\n",
       "  </tbody>\n",
       "</table>\n",
       "</div>"
      ],
      "text/plain": [
       "    version experimentVariant  purchase       \n",
       "                                   mean  count\n",
       "0    v2.8.0                 0  0.000993  41283\n",
       "1    v2.8.0                 1  0.045606  41552\n",
       "2    v2.9.0                 0  0.074658  11921\n",
       "3    v2.9.0                 1  0.071304  12033\n",
       "4  v3.7.4.0                 0  0.059943   4204\n",
       "5  v3.7.4.0                 1  0.063018   4221\n",
       "6  v3.8.0.0                 0  0.057604   5694\n",
       "7  v3.8.0.0                 1  0.062848   6110"
      ]
     },
     "execution_count": 12,
     "metadata": {},
     "output_type": "execute_result"
    }
   ],
   "source": [
    "# посчитаем конверсию в покупку, группируя по варианту и версии мобильного приложения\n",
    "df.groupby(['version', 'experimentVariant'], as_index = False) \\\n",
    "    .agg({'purchase': ['mean', 'count']})"
   ]
  },
  {
   "cell_type": "markdown",
   "id": "20d59320",
   "metadata": {},
   "source": [
    "По всей видимости, аномалия находится в версии v2.8.0, поскольку показатель конверсии там слишком низкий.\n",
    "Выясним, могут ли такие различия в показателях конверсии внутри одной версии мобильного приложения быть случайными? Для этого сравним средние двух групп внутри кажой версии мобильного приложения на наличие статистически значимых различий."
   ]
  },
  {
   "cell_type": "markdown",
   "id": "10900d4a",
   "metadata": {},
   "source": [
    "#### v2.8.0"
   ]
  },
  {
   "cell_type": "code",
   "execution_count": 13,
   "id": "ff9150da",
   "metadata": {},
   "outputs": [
    {
     "data": {
      "text/plain": [
       "Ttest_indResult(statistic=-42.963540840360324, pvalue=0.0)"
      ]
     },
     "execution_count": 13,
     "metadata": {},
     "output_type": "execute_result"
    }
   ],
   "source": [
    "v2_8_0_variant_0 = df.query('experimentVariant == 0 and version == \"v2.8.0\"').purchase\n",
    "v2_8_0_variant_1 = df.query('experimentVariant == 1 and version == \"v2.8.0\"').purchase\n",
    "\n",
    "sp.ttest_ind(v2_8_0_variant_0, v2_8_0_variant_1)"
   ]
  },
  {
   "cell_type": "markdown",
   "id": "c378f95f",
   "metadata": {},
   "source": [
    "#### v2.9.0"
   ]
  },
  {
   "cell_type": "code",
   "execution_count": 14,
   "id": "7ba64b39",
   "metadata": {},
   "outputs": [
    {
     "data": {
      "text/plain": [
       "Ttest_indResult(statistic=0.9979597634962479, pvalue=0.31830895167207446)"
      ]
     },
     "execution_count": 14,
     "metadata": {},
     "output_type": "execute_result"
    }
   ],
   "source": [
    "v2_9_0_variant_0 = df.query('experimentVariant == 0 and version == \"v2.9.0\"').purchase\n",
    "v2_9_0_variant_1 = df.query('experimentVariant == 1 and version == \"v2.9.0\"').purchase\n",
    "\n",
    "sp.ttest_ind(v2_9_0_variant_0, v2_9_0_variant_1)"
   ]
  },
  {
   "cell_type": "markdown",
   "id": "52fe5c68",
   "metadata": {},
   "source": [
    "#### v3.7.4.0"
   ]
  },
  {
   "cell_type": "code",
   "execution_count": 15,
   "id": "904ed71d",
   "metadata": {},
   "outputs": [
    {
     "data": {
      "text/plain": [
       "Ttest_indResult(statistic=-0.5874925850487471, pvalue=0.5568886771079735)"
      ]
     },
     "execution_count": 15,
     "metadata": {},
     "output_type": "execute_result"
    }
   ],
   "source": [
    "v3_7_4_0_variant_0 = df.query('experimentVariant == 0 and version == \"v3.7.4.0\"').purchase\n",
    "v3_7_4_0_variant_1 = df.query('experimentVariant == 1 and version == \"v3.7.4.0\"').purchase\n",
    "\n",
    "sp.ttest_ind(v3_7_4_0_variant_0, v3_7_4_0_variant_1)"
   ]
  },
  {
   "cell_type": "markdown",
   "id": "92bc3287",
   "metadata": {},
   "source": [
    "#### v3.8.0.0\t"
   ]
  },
  {
   "cell_type": "code",
   "execution_count": 17,
   "id": "5174dc04",
   "metadata": {},
   "outputs": [
    {
     "data": {
      "text/plain": [
       "Ttest_indResult(statistic=-1.1956188950206779, pvalue=0.23186933664059722)"
      ]
     },
     "execution_count": 17,
     "metadata": {},
     "output_type": "execute_result"
    }
   ],
   "source": [
    "v3_8_0_0_variant_0 = df.query('experimentVariant == 0 and version == \"v3.8.0.0\"').purchase\n",
    "v3_8_0_0_variant_1 = df.query('experimentVariant == 1 and version == \"v3.8.0.0\"').purchase\n",
    "\n",
    "sp.ttest_ind(v3_8_0_0_variant_0, v3_8_0_0_variant_1)"
   ]
  },
  {
   "cell_type": "markdown",
   "id": "e499e20f",
   "metadata": {},
   "source": [
    "Т-тест говорит от том, что средние показатели уровня конверсии в версии v2.8.0 статистически значимо различаются в двух группах. Поэтому представляется оправданным исключить версию с pvalue < 0.05 из основного датафрейма."
   ]
  },
  {
   "cell_type": "code",
   "execution_count": 18,
   "id": "077e71d7",
   "metadata": {},
   "outputs": [],
   "source": [
    "fixed_df = df.query('version != \"v2.8.0\"')"
   ]
  },
  {
   "cell_type": "markdown",
   "id": "5bc5a7fe",
   "metadata": {},
   "source": [
    "Повторим А/А тест на обрезанных данных."
   ]
  },
  {
   "cell_type": "code",
   "execution_count": 19,
   "id": "cc24397d",
   "metadata": {},
   "outputs": [
    {
     "data": {
      "application/vnd.jupyter.widget-view+json": {
       "model_id": "fc782b3c316441ee8ab51aab614e7a3d",
       "version_major": 2,
       "version_minor": 0
      },
      "text/plain": [
       "  0%|          | 0/1000 [00:00<?, ?it/s]"
      ]
     },
     "metadata": {},
     "output_type": "display_data"
    },
    {
     "data": {
      "image/png": "[encoded data removed]",
      "text/plain": [
       "<Figure size 432x288 with 1 Axes>"
      ]
     },
     "metadata": {},
     "output_type": "display_data"
    },
    {
     "name": "stdout",
     "output_type": "stream",
     "text": [
      "FPR is: 0.041\n"
     ]
    }
   ],
   "source": [
    "simulations = 1000\n",
    "n_s = 1000\n",
    "res = []\n",
    "\n",
    "# Запуск симуляций A/A теста\n",
    "for i in tqdm(range(simulations)):\n",
    "    s1 = fixed_df.query('experimentVariant == 0')['purchase'].sample(n_s, replace = False).values # выборки без повторений\n",
    "    s2 = fixed_df.query('experimentVariant == 1')['purchase'].sample(n_s, replace = False).values # выборки без повторений\n",
    "    res.append(sp.ttest_ind(s1, s2, equal_var = False)[1]) # сохраняем pvalue\n",
    "\n",
    "plt.hist(res, bins = 50)\n",
    "plt.style.use('ggplot')\n",
    "plt.xlabel('p-values')\n",
    "plt.ylabel('frequency')\n",
    "plt.title(\"Histogram of t-test A/A simulations \")\n",
    "plt.show()\n",
    "\n",
    "# Проверяем, что количество ложноположительных случаев не превышает альфа\n",
    "fpr = sum(np.array(res) < 0.05) / simulations\n",
    "print('FPR is:', fpr)"
   ]
  },
  {
   "cell_type": "markdown",
   "id": "c2ed7a0f",
   "metadata": {},
   "source": [
    "Теперь система сплитования работает корректно!"
   ]
  },
  {
   "cell_type": "markdown",
   "id": "c00df45d",
   "metadata": {},
   "source": [
    "#### Выводы"
   ]
  },
  {
   "cell_type": "markdown",
   "id": "4ea501e5",
   "metadata": {},
   "source": [
    "- Было проведено А/А тестирование, показавшее наличие проблем в системе сплитования (сильная правая асимметрия в распределении p-values, FPR > 0.05)\n",
    "- Был проведён post-hoc анализ для обнаружения причины проблем в системе сплитования\n",
    "- Были обнаружены аномальные показатели конверсии в покупку для пользователей с версией мобильного приложения 'v2.8.0'\n",
    "- После удаления аномальных данных и повторного проведения А/А теста было обнаружено, что система сплитования работает корректно (равномерное распределение p-values, FPR < 0.05)"
   ]
  }
 ],
 "metadata": {
  "kernelspec": {
   "display_name": "Python 3",
   "language": "python",
   "name": "python3"
  },
  "language_info": {
   "codemirror_mode": {
    "name": "ipython",
    "version": 3
   },
   "file_extension": ".py",
   "mimetype": "text/x-python",
   "name": "python",
   "nbconvert_exporter": "python",
   "pygments_lexer": "ipython3",
   "version": "3.8.10"
  }
 },
 "nbformat": 4,
 "nbformat_minor": 5
}
